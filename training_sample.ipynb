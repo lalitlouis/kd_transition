{
 "cells": [
  {
   "cell_type": "code",
   "execution_count": 1,
   "metadata": {},
   "outputs": [
    {
     "data": {
      "text/markdown": [
       "<span style='color:red'><b>KD Training and Model Serving is deprecated and will not be supported in a future General Availability release. Instead, refer to the Kubeflow Tutorials section in the [HPE Ezmeral Runtime Enterprise documentation](https://docs-containerplatform.mip.storage.hpecorp.net/55/reference/Whats_New_in_Version.html) on how to train and deploy your model.</b></span>"
      ],
      "text/plain": [
       "<IPython.core.display.Markdown object>"
      ]
     },
     "metadata": {},
     "output_type": "display_data"
    },
    {
     "name": "stdout",
     "output_type": "stream",
     "text": [
      "Training Cluster    ML Engine\n",
      "------------------  -----------\n",
      "train1              python\n"
     ]
    }
   ],
   "source": [
    "%attachments"
   ]
  },
  {
   "cell_type": "code",
   "execution_count": 3,
   "metadata": {},
   "outputs": [
    {
     "data": {
      "text/markdown": [
       "<span style='color:red'><b>KD Training and Model Serving is deprecated and will not be supported in a future General Availability release. Instead, refer to the Kubeflow Tutorials section in the [HPE Ezmeral Runtime Enterprise documentation](https://docs-containerplatform.mip.storage.hpecorp.net/55/reference/Whats_New_in_Version.html) on how to train and deploy your model.</b></span>"
      ],
      "text/plain": [
       "<IPython.core.display.Markdown object>"
      ]
     },
     "metadata": {},
     "output_type": "display_data"
    },
    {
     "name": "stdout",
     "output_type": "stream",
     "text": [
      "Job ID: 1, History URL: http://train1-restserver-rz5ql-0.train1z2llf.tenant-88a.svc.cluster.local:10001/history/1\n"
     ]
    }
   ],
   "source": [
    "%%train1 \n",
    "\n",
    "# example of saving a fit model\n",
    "from sklearn.datasets import make_classification\n",
    "from tensorflow.keras import Sequential\n",
    "from tensorflow.keras.layers import Dense\n",
    "from tensorflow.keras.optimizers import SGD\n",
    "import mlflow\n",
    "from mlflow import log_metric, log_param, log_artifact\n",
    "\n",
    "def train(inputshape):\n",
    "    # create the dataset\n",
    "    X, y = make_classification(n_samples=1000, n_features=4, n_classes=2, random_state=1)\n",
    "    # determine the number of input features\n",
    "    n_features = X.shape[1]\n",
    "    # define model\n",
    "    model = Sequential()\n",
    "    model.add(Dense(10, activation='relu', kernel_initializer='he_normal', input_shape=(n_features,)))\n",
    "    model.add(Dense(1, activation='sigmoid'))\n",
    "    # compile the model\n",
    "    sgd = SGD(learning_rate=0.001, momentum=0.8)\n",
    "    model.compile(optimizer=sgd, loss='binary_crossentropy')\n",
    "    # fit the model\n",
    "    model.fit(X, y, epochs=100, batch_size=32, verbose=0, validation_split=0.3)\n",
    "    row = [1.91518414, 1.14995454, -1.52847073, 0.79430654]\n",
    "    yhat = model.predict([inputshape])\n",
    "    print('Predicted: %.3f' % yhat[0])\n",
    "    tf.keras.models.save_model(\n",
    "    model,\n",
    "    MODEL_DIR,\n",
    "    overwrite=True,\n",
    "    include_optimizer=True,\n",
    "    save_format=None,\n",
    "    signatures=None,\n",
    "    options=None\n",
    ")\n",
    "    \n",
    "train([1.91518414, 1.14995454, -1.52847073, 0.79430654])"
   ]
  },
  {
   "cell_type": "code",
   "execution_count": 4,
   "metadata": {},
   "outputs": [
    {
     "data": {
      "text/markdown": [
       "<span style='color:red'><b>KD Training and Model Serving is deprecated and will not be supported in a future General Availability release. Instead, refer to the Kubeflow Tutorials section in the [HPE Ezmeral Runtime Enterprise documentation](https://docs-containerplatform.mip.storage.hpecorp.net/55/reference/Whats_New_in_Version.html) on how to train and deploy your model.</b></span>"
      ],
      "text/plain": [
       "<IPython.core.display.Markdown object>"
      ]
     },
     "metadata": {},
     "output_type": "display_data"
    },
    {
     "name": "stdout",
     "output_type": "stream",
     "text": [
      "Job Status: Finished\n",
      "\n",
      "1/1 [==============================] - ETA: \n",
      "1/1 [==============================] - 0s 68ms/step\n",
      "Predicted: 0.751\n",
      "\n",
      "2022-10-19 01:04:34.773027: W tensorflow/stream_executor/platform/default/dso_loader.cc:64] Could not load dynamic library 'libcuda.so.1'; dlerror: libcuda.so.1: cannot open shared object file: No such file or directory; LD_LIBRARY_PATH: /opt/miniconda/lib/:/usr/local/nvidia/lib:/usr/local/nvidia/lib64:/usr/lib64/openmpi-4.0.3/lib/:/opt/miniconda/pkgs/openssl-1.1.1g-h516909a_1/lib\n",
      "2022-10-19 01:04:34.773063: W tensorflow/stream_executor/cuda/cuda_driver.cc:269] failed call to cuInit: UNKNOWN ERROR (303)\n",
      "2022-10-19 01:04:34.773089: I tensorflow/stream_executor/cuda/cuda_diagnostics.cc:156] kernel driver does not appear to be running on this host (train1-restserver-rz5ql-0): /proc/driver/nvidia/version does not exist\n",
      "Traceback (most recent call last):\n",
      "File \"/bd-fs-mnt/project_repo/misc/af32879d-38ad-45fb-bcb5-e58b0fa60232/train1\", line 29, in <module>\n",
      "train([1.91518414, 1.14995454, -1.52847073, 0.79430654])\n",
      "File \"/bd-fs-mnt/project_repo/misc/af32879d-38ad-45fb-bcb5-e58b0fa60232/train1\", line 27, in train\n",
      "client.log_model(model=model, registered_model_name=\"keras-model\",artifact_path=\"keras\" )\n",
      "NameError: name 'client' is not defined\n",
      "\n",
      "\n"
     ]
    }
   ],
   "source": [
    "%logs --url http://train1-restserver-rz5ql-0.train1z2llf.tenant-88a.svc.cluster.local:10001/history/1"
   ]
  },
  {
   "cell_type": "code",
   "execution_count": null,
   "metadata": {},
   "outputs": [],
   "source": []
  }
 ],
 "metadata": {
  "kernelspec": {
   "display_name": "Python 3",
   "language": "python",
   "name": "python3"
  },
  "language_info": {
   "codemirror_mode": {
    "name": "ipython",
    "version": 3
   },
   "file_extension": ".py",
   "mimetype": "text/x-python",
   "name": "python",
   "nbconvert_exporter": "python",
   "pygments_lexer": "ipython3",
   "version": "3.8.5"
  }
 },
 "nbformat": 4,
 "nbformat_minor": 4
}
