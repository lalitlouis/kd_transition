{
 "cells": [
  {
   "cell_type": "code",
   "execution_count": null,
   "metadata": {},
   "outputs": [],
   "source": [
    "%attachments"
   ]
  },
  {
   "cell_type": "code",
   "execution_count": null,
   "metadata": {},
   "outputs": [],
   "source": [
    "%%train1 \n",
    "\n",
    "# example of saving a fit model\n",
    "from sklearn.datasets import make_classification\n",
    "from tensorflow.keras import Sequential\n",
    "from tensorflow.keras.layers import Dense\n",
    "from tensorflow.keras.optimizers import SGD\n",
    "import mlflow\n",
    "from mlflow import log_metric, log_param, log_artifact\n",
    "\n",
    "def train(inputshape):\n",
    "    # create the dataset\n",
    "    X, y = make_classification(n_samples=1000, n_features=4, n_classes=2, random_state=1)\n",
    "    # determine the number of input features\n",
    "    n_features = X.shape[1]\n",
    "    # define model\n",
    "    model = Sequential()\n",
    "    model.add(Dense(10, activation='relu', kernel_initializer='he_normal', input_shape=(n_features,)))\n",
    "    model.add(Dense(1, activation='sigmoid'))\n",
    "    # compile the model\n",
    "    sgd = SGD(learning_rate=0.001, momentum=0.8)\n",
    "    model.compile(optimizer=sgd, loss='binary_crossentropy')\n",
    "    # fit the model\n",
    "    model.fit(X, y, epochs=100, batch_size=32, verbose=0, validation_split=0.3)\n",
    "    row = [1.91518414, 1.14995454, -1.52847073, 0.79430654]\n",
    "    yhat = model.predict([inputshape])\n",
    "    print('Predicted: %.3f' % yhat[0])\n",
    "    \n",
    "train([1.91518414, 1.14995454, -1.52847073, 0.79430654])"
   ]
  },
  {
   "cell_type": "code",
   "execution_count": null,
   "metadata": {},
   "outputs": [],
   "source": [
    "%logs --url <url>"
   ]
  }
 ],
 "metadata": {
  "kernelspec": {
   "display_name": "Python 3",
   "language": "python",
   "name": "python3"
  },
  "language_info": {
   "codemirror_mode": {
    "name": "ipython",
    "version": 3
   },
   "file_extension": ".py",
   "mimetype": "text/x-python",
   "name": "python",
   "nbconvert_exporter": "python",
   "pygments_lexer": "ipython3",
   "version": "3.8.5"
  },
  "vscode": {
   "interpreter": {
    "hash": "aee8b7b246df8f9039afb4144a1f6fd8d2ca17a180786b69acc140d282b71a49"
   }
  }
 },
 "nbformat": 4,
 "nbformat_minor": 4
}
