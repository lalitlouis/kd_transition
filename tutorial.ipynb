{
 "cells": [
  {
   "cell_type": "code",
   "execution_count": 2,
   "metadata": {},
   "outputs": [
    {
     "name": "stdout",
     "output_type": "stream",
     "text": [
      "kubeconfig set for user qa1\n"
     ]
    }
   ],
   "source": [
    "%kubeRefresh --pwd Admin123"
   ]
  },
  {
   "cell_type": "code",
   "execution_count": 49,
   "metadata": {},
   "outputs": [
    {
     "name": "stdout",
     "output_type": "stream",
     "text": [
      "persistentvolumeclaim/pvctf9 created\n"
     ]
    }
   ],
   "source": [
    "!kubectl apply -f \"1-pvc.yaml\""
   ]
  },
  {
   "cell_type": "code",
   "execution_count": 2,
   "metadata": {},
   "outputs": [
    {
     "name": "stdout",
     "output_type": "stream",
     "text": [
      "tfjob.kubeflow.org/tfjob-sample created\n"
     ]
    }
   ],
   "source": [
    "!kubectl apply -f 2-tfjob_kserve.yaml"
   ]
  },
  {
   "cell_type": "code",
   "execution_count": 1,
   "metadata": {},
   "outputs": [
    {
     "name": "stdout",
     "output_type": "stream",
     "text": [
      "tfjob.kubeflow.org \"tfjob-sample\" deleted\n"
     ]
    }
   ],
   "source": [
    "!kubectl delete tfjob tfjob-sample"
   ]
  },
  {
   "cell_type": "code",
   "execution_count": 15,
   "metadata": {},
   "outputs": [
    {
     "name": "stdout",
     "output_type": "stream",
     "text": [
      "tfjob-sample-worker-0                                        0/1     Completed   0          95s\n",
      "tfjob-sample2-worker-0                                       0/1     Completed   0          36m\n"
     ]
    }
   ],
   "source": [
    "!kubectl get pods | grep tfjob-sample"
   ]
  },
  {
   "cell_type": "code",
   "execution_count": 16,
   "metadata": {},
   "outputs": [
    {
     "name": "stdout",
     "output_type": "stream",
     "text": [
      "NAME            STATE       AGE\n",
      "tfjob-sample    Succeeded   103s\n",
      "tfjob-sample2   Succeeded   36m\n"
     ]
    }
   ],
   "source": [
    "!kubectl get tfjob "
   ]
  },
  {
   "cell_type": "code",
   "execution_count": 17,
   "metadata": {},
   "outputs": [
    {
     "name": "stdout",
     "output_type": "stream",
     "text": [
      "inferenceservice.serving.kserve.io/tfjob-serving created\n"
     ]
    }
   ],
   "source": [
    "!kubectl apply -f 3-inference_kserve.yaml"
   ]
  },
  {
   "cell_type": "code",
   "execution_count": 26,
   "metadata": {},
   "outputs": [
    {
     "name": "stdout",
     "output_type": "stream",
     "text": [
      "NAME       AGE\n",
      "seldon13   8s\n",
      "seldon9    25m\n"
     ]
    }
   ],
   "source": [
    "!kubectl get sdep"
   ]
  },
  {
   "cell_type": "code",
   "execution_count": 21,
   "metadata": {},
   "outputs": [
    {
     "name": "stdout",
     "output_type": "stream",
     "text": [
      "NAME            URL   READY     PREV   LATEST   PREVROLLEDOUTREVISION   LATESTREADYREVISION   AGE\n",
      "tfjob-serving         Unknown                                                                 31s\n"
     ]
    }
   ],
   "source": [
    "!kubectl get inferenceservice"
   ]
  },
  {
   "cell_type": "code",
   "execution_count": 30,
   "metadata": {},
   "outputs": [
    {
     "name": "stdout",
     "output_type": "stream",
     "text": [
      "tfjob-serving-predictor-default-00001-deployment-5688c8fddj6pvh   2/2     Running     0          60s\n"
     ]
    }
   ],
   "source": [
    "!kubectl get pods | grep predictor"
   ]
  },
  {
   "cell_type": "code",
   "execution_count": 47,
   "metadata": {},
   "outputs": [
    {
     "name": "stdout",
     "output_type": "stream",
     "text": [
      "seldon13-default-0-tfserving-seldon-f788b897c-46grs          3/3     Running     0          43s\n"
     ]
    }
   ],
   "source": [
    "!kubectl get pods | grep seldon13"
   ]
  },
  {
   "cell_type": "code",
   "execution_count": 31,
   "metadata": {},
   "outputs": [
    {
     "name": "stdout",
     "output_type": "stream",
     "text": [
      "200\n",
      "{'predictions': [[0.838293731]]}\n"
     ]
    }
   ],
   "source": [
    "!python requests_kserve.py  http://tfjob-serving-predictor-default.tenant-88a.svc.cluster.local:80"
   ]
  },
  {
   "cell_type": "code",
   "execution_count": 32,
   "metadata": {},
   "outputs": [
    {
     "name": "stdout",
     "output_type": "stream",
     "text": [
      "{\"data\":{\"names\":[\"t:0\"],\"ndarray\":[[0.794930398]]},\"meta\":{\"requestPath\":{\"seldon\":\"seldonio/tfserving-proxy:1.12.0\"}}}\n",
      "\n"
     ]
    }
   ],
   "source": [
    "!python requests_seldon.py  http://seldon13-default.tenant-88a.svc.cluster.local:8000"
   ]
  },
  {
   "cell_type": "code",
   "execution_count": null,
   "metadata": {},
   "outputs": [],
   "source": []
  }
 ],
 "metadata": {
  "kernelspec": {
   "display_name": "Python 3",
   "language": "python",
   "name": "python3"
  },
  "language_info": {
   "codemirror_mode": {
    "name": "ipython",
    "version": 3
   },
   "file_extension": ".py",
   "mimetype": "text/x-python",
   "name": "python",
   "nbconvert_exporter": "python",
   "pygments_lexer": "ipython3",
   "version": "3.8.5"
  }
 },
 "nbformat": 4,
 "nbformat_minor": 4
}
